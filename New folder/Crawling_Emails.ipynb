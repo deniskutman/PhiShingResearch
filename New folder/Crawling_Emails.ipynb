{
 "cells": [
  {
   "cell_type": "code",
   "execution_count": 3,
   "id": "095b7cf1",
   "metadata": {},
   "outputs": [
    {
     "ename": "ModuleNotFoundError",
     "evalue": "No module named 'oauth2client'",
     "output_type": "error",
     "traceback": [
      "\u001b[1;31m---------------------------------------------------------------------------\u001b[0m",
      "\u001b[1;31mModuleNotFoundError\u001b[0m                       Traceback (most recent call last)",
      "\u001b[1;32m~\\AppData\\Local\\Temp\\ipykernel_7152\\2007141193.py\u001b[0m in \u001b[0;36m<module>\u001b[1;34m\u001b[0m\n\u001b[1;32m----> 1\u001b[1;33m \u001b[1;32mfrom\u001b[0m \u001b[0moauth2client\u001b[0m\u001b[1;33m.\u001b[0m\u001b[0mclient\u001b[0m \u001b[1;32mimport\u001b[0m \u001b[0mflow_from_clientsecrets\u001b[0m\u001b[1;33m\u001b[0m\u001b[1;33m\u001b[0m\u001b[0m\n\u001b[0m\u001b[0;32m      2\u001b[0m \u001b[1;33m\u001b[0m\u001b[0m\n\u001b[0;32m      3\u001b[0m \u001b[0mCLIENTSECRETS_LOCATION\u001b[0m \u001b[1;33m=\u001b[0m \u001b[1;34m'/downloaded/json/file/path'\u001b[0m\u001b[1;33m\u001b[0m\u001b[1;33m\u001b[0m\u001b[0m\n\u001b[0;32m      4\u001b[0m \u001b[0mREDIRECT_URI\u001b[0m \u001b[1;33m=\u001b[0m\u001b[1;34m'copy-from-the-credentials-tab. should look something like: urn:ietf:wg:oauth:2.0:oob'\u001b[0m\u001b[1;33m\u001b[0m\u001b[1;33m\u001b[0m\u001b[0m\n\u001b[0;32m      5\u001b[0m SCOPES = [\n",
      "\u001b[1;31mModuleNotFoundError\u001b[0m: No module named 'oauth2client'"
     ]
    }
   ],
   "source": [
    "from oauth2client.client import flow_from_clientsecrets\n",
    "\n",
    "CLIENTSECRETS_LOCATION = '/downloaded/json/file/path'\n",
    "REDIRECT_URI ='copy-from-the-credentials-tab. should look something like: urn:ietf:wg:oauth:2.0:oob' \n",
    "SCOPES = [\n",
    "     ## Choose the scopes relevant for you. Note that the last two are potentially harful.\n",
    "     'https://www.googleapis.com/auth/gmail.readonly',\n",
    "     'https://www.googleapis.com/auth/userinfo.email',\n",
    "     'https://www.googleapis.com/auth/userinfo.profile',\n",
    "     'https://mail.google.com/'\n",
    "     \n",
    "     'https://www.googleapis.com/auth/gmail.modify',\n",
    "     'https://www.googleapis.com/auth/gmail.compose',\n",
    "     ]\n",
    "\n",
    "flow = flow_from_clientsecrets(CLIENTSECRETS_LOCATION, ' '.join(SCOPES))\n",
    "import logging\n",
    "auth_uri = flow.step1_get_authorize_url(REDIRECT_URI)"
   ]
  },
  {
   "cell_type": "code",
   "execution_count": null,
   "id": "e1e48367",
   "metadata": {},
   "outputs": [],
   "source": []
  },
  {
   "cell_type": "code",
   "execution_count": null,
   "id": "8257c69c",
   "metadata": {},
   "outputs": [],
   "source": []
  },
  {
   "cell_type": "code",
   "execution_count": null,
   "id": "8dc993cf",
   "metadata": {},
   "outputs": [],
   "source": []
  }
 ],
 "metadata": {
  "kernelspec": {
   "display_name": "Python 3 (ipykernel)",
   "language": "python",
   "name": "python3"
  },
  "language_info": {
   "codemirror_mode": {
    "name": "ipython",
    "version": 3
   },
   "file_extension": ".py",
   "mimetype": "text/x-python",
   "name": "python",
   "nbconvert_exporter": "python",
   "pygments_lexer": "ipython3",
   "version": "3.9.13"
  }
 },
 "nbformat": 4,
 "nbformat_minor": 5
}
